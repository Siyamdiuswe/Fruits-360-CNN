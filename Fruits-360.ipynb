{
 "cells": [
  {
   "cell_type": "code",
   "execution_count": 26,
   "metadata": {},
   "outputs": [],
   "source": [
    "import numpy as np # linear algebra\n",
    "import pandas as pd # data processing, CSV file I/O (e.g. pd.read_csv)\n",
    "import keras \n",
    "import tensorflow as tf\n",
    "import matplotlib.pyplot as plt\n",
    "%matplotlib inline\n",
    "import cv2\n",
    "import glob\n",
    "import os"
   ]
  },
  {
   "cell_type": "code",
   "execution_count": 32,
   "metadata": {},
   "outputs": [
    {
     "name": "stdout",
     "output_type": "stream",
     "text": [
      "Loading complete!\n",
      "Training set size :  67692\n",
      "Testing set size :  22688\n"
     ]
    }
   ],
   "source": [
    "from sklearn.datasets import load_files\n",
    "import numpy as np\n",
    "\n",
    "train_dir = r'C:\\Users\\deVam\\fruits-360\\Training'\n",
    "test_dir = r'C:\\Users\\deVam\\fruits-360\\Test'\n",
    "\n",
    "def load_dataset(path):\n",
    "    data = load_files(path)\n",
    "    files = np.array(data['filenames'])\n",
    "    targets = np.array(data['target'])\n",
    "    target_labels = np.array(data['target_names'])\n",
    "    return files,targets,target_labels\n",
    "    \n",
    "x_train, y_train,target_labels = load_dataset(train_dir)\n",
    "x_test, y_test,_ = load_dataset(test_dir)\n",
    "print('Loading complete!')\n",
    "\n",
    "print('Training set size : ' , x_train.shape[0])\n",
    "print('Testing set size : ', x_test.shape[0])"
   ]
  },
  {
   "cell_type": "code",
   "execution_count": 33,
   "metadata": {},
   "outputs": [
    {
     "data": {
      "text/plain": [
       "131"
      ]
     },
     "execution_count": 33,
     "metadata": {},
     "output_type": "execute_result"
    }
   ],
   "source": [
    "no_of_classes = len(np.unique(y_train))\n",
    "no_of_classes"
   ]
  },
  {
   "cell_type": "code",
   "execution_count": 34,
   "metadata": {},
   "outputs": [],
   "source": [
    "from keras.utils import np_utils\n",
    "y_train = np_utils.to_categorical(y_train,no_of_classes)\n",
    "y_test = np_utils.to_categorical(y_test,no_of_classes)"
   ]
  },
  {
   "cell_type": "code",
   "execution_count": 36,
   "metadata": {},
   "outputs": [],
   "source": [
    "from sklearn.model_selection import  train_test_split\n",
    "x_test,x_valid,y_test,y_valid=train_test_split(x_test,y_test,test_size=0.2,random_state=42)"
   ]
  },
  {
   "cell_type": "code",
   "execution_count": 38,
   "metadata": {},
   "outputs": [
    {
     "data": {
      "text/plain": [
       "((4538,), (4538, 131))"
      ]
     },
     "execution_count": 38,
     "metadata": {},
     "output_type": "execute_result"
    }
   ],
   "source": [
    "x_valid.shape, y_valid.shape"
   ]
  },
  {
   "cell_type": "code",
   "execution_count": 39,
   "metadata": {},
   "outputs": [
    {
     "data": {
      "text/plain": [
       "((18150,), (18150, 131))"
      ]
     },
     "execution_count": 39,
     "metadata": {},
     "output_type": "execute_result"
    }
   ],
   "source": [
    "x_test.shape,y_test.shape"
   ]
  },
  {
   "cell_type": "code",
   "execution_count": 40,
   "metadata": {},
   "outputs": [
    {
     "name": "stdout",
     "output_type": "stream",
     "text": [
      "Training set shape :  (67692, 100, 100, 3)\n",
      "Validation set shape :  (4538, 100, 100, 3)\n",
      "Test set shape :  (18150, 100, 100, 3)\n",
      "1st training image shape  (100, 100, 3)\n"
     ]
    }
   ],
   "source": [
    "from keras.preprocessing.image import array_to_img, img_to_array, load_img\n",
    "\n",
    "def convert_image_to_array(files):\n",
    "    images_as_array=[]\n",
    "    for file in files:\n",
    "        # Convert to Numpy Array\n",
    "        images_as_array.append(img_to_array(load_img(file)))\n",
    "    return images_as_array\n",
    "\n",
    "x_train = np.array(convert_image_to_array(x_train))\n",
    "print('Training set shape : ',x_train.shape)\n",
    "\n",
    "x_valid = np.array(convert_image_to_array(x_valid))\n",
    "print('Validation set shape : ',x_valid.shape)\n",
    "\n",
    "x_test = np.array(convert_image_to_array(x_test))\n",
    "print('Test set shape : ',x_test.shape)\n",
    "\n",
    "print('1st training image shape ',x_train[0].shape)"
   ]
  },
  {
   "cell_type": "code",
   "execution_count": 41,
   "metadata": {},
   "outputs": [],
   "source": [
    "x_train = x_train.astype('float32')/255\n",
    "x_valid = x_valid.astype('float32')/255\n",
    "x_test = x_test.astype('float32')/255"
   ]
  },
  {
   "cell_type": "code",
   "execution_count": 48,
   "metadata": {},
   "outputs": [
    {
     "name": "stdout",
     "output_type": "stream",
     "text": [
      "Model: \"sequential_2\"\n",
      "_________________________________________________________________\n",
      "Layer (type)                 Output Shape              Param #   \n",
      "=================================================================\n",
      "conv2d_4 (Conv2D)            (None, 100, 100, 16)      448       \n",
      "_________________________________________________________________\n",
      "activation_2 (Activation)    (None, 100, 100, 16)      0         \n",
      "_________________________________________________________________\n",
      "batch_normalization_4 (Batch (None, 100, 100, 16)      64        \n",
      "_________________________________________________________________\n",
      "average_pooling2d_2 (Average (None, 50, 50, 16)        0         \n",
      "_________________________________________________________________\n",
      "conv2d_5 (Conv2D)            (None, 50, 50, 32)        4640      \n",
      "_________________________________________________________________\n",
      "batch_normalization_5 (Batch (None, 50, 50, 32)        128       \n",
      "_________________________________________________________________\n",
      "max_pooling2d_3 (MaxPooling2 (None, 25, 25, 32)        0         \n",
      "_________________________________________________________________\n",
      "dropout_4 (Dropout)          (None, 25, 25, 32)        0         \n",
      "_________________________________________________________________\n",
      "conv2d_6 (Conv2D)            (None, 25, 25, 32)        9248      \n",
      "_________________________________________________________________\n",
      "batch_normalization_6 (Batch (None, 25, 25, 32)        128       \n",
      "_________________________________________________________________\n",
      "max_pooling2d_4 (MaxPooling2 (None, 12, 12, 32)        0         \n",
      "_________________________________________________________________\n",
      "flatten_2 (Flatten)          (None, 4608)              0         \n",
      "_________________________________________________________________\n",
      "dense_5 (Dense)              (None, 512)               2359808   \n",
      "_________________________________________________________________\n",
      "dropout_5 (Dropout)          (None, 512)               0         \n",
      "_________________________________________________________________\n",
      "dense_6 (Dense)              (None, 256)               131328    \n",
      "_________________________________________________________________\n",
      "dropout_6 (Dropout)          (None, 256)               0         \n",
      "_________________________________________________________________\n",
      "dense_7 (Dense)              (None, 131)               33667     \n",
      "=================================================================\n",
      "Total params: 2,539,459\n",
      "Trainable params: 2,539,299\n",
      "Non-trainable params: 160\n",
      "_________________________________________________________________\n"
     ]
    }
   ],
   "source": [
    "from keras.models import Sequential\n",
    "from keras.layers import Conv2D,MaxPooling2D,AveragePooling2D\n",
    "from keras.layers import Activation, Dense, Flatten, Dropout,Activation,BatchNormalization\n",
    "from keras.preprocessing.image import ImageDataGenerator\n",
    "from keras.callbacks import ModelCheckpoint\n",
    "from keras import backend as K\n",
    "\n",
    "model = Sequential()\n",
    "model.add(Conv2D(filters = 16, kernel_size = (3,3),input_shape=(100,100,3),padding='same'))\n",
    "model.add(Activation('relu'))\n",
    "model.add(BatchNormalization())\n",
    "model.add(AveragePooling2D(pool_size=(2,2)))\n",
    "\n",
    "model.add(Conv2D(filters = 32,kernel_size = (3,3),activation = 'relu',padding='same'))\n",
    "model.add(BatchNormalization())\n",
    "model.add(MaxPooling2D(pool_size=(2,2)))\n",
    "model.add(Dropout(0.25))\n",
    "\n",
    "model.add(Conv2D(filters = 32,kernel_size = (3,3),activation = 'relu',padding='same'))\n",
    "model.add(BatchNormalization())\n",
    "model.add(MaxPooling2D(pool_size=(2,2)))\n",
    "model.add(Flatten())\n",
    "\n",
    "model.add(Dense(512,activation = 'relu'))\n",
    "model.add(Dropout(0.5))\n",
    "model.add(Dense(256,activation = 'relu'))\n",
    "model.add(Dropout(0.5))\n",
    "model.add(Dense(131,activation = 'softmax'))\n",
    "model.summary()"
   ]
  },
  {
   "cell_type": "code",
   "execution_count": 49,
   "metadata": {},
   "outputs": [],
   "source": [
    "model.compile(loss='categorical_crossentropy',\n",
    "              optimizer='rmsprop',\n",
    "              metrics=['accuracy'])"
   ]
  },
  {
   "cell_type": "code",
   "execution_count": 50,
   "metadata": {},
   "outputs": [
    {
     "name": "stdout",
     "output_type": "stream",
     "text": [
      "Train on 67692 samples, validate on 4538 samples\n",
      "Epoch 1/30\n",
      " - 550s - loss: 1.5209 - accuracy: 0.6220 - val_loss: 0.5963 - val_accuracy: 0.8795\n",
      "\n",
      "Epoch 00001: val_loss improved from inf to 0.59632, saving model to fruits_360_weights.hdf5\n",
      "Epoch 2/30\n",
      " - 495s - loss: 0.2866 - accuracy: 0.9185 - val_loss: 0.5061 - val_accuracy: 0.9152\n",
      "\n",
      "Epoch 00002: val_loss improved from 0.59632 to 0.50606, saving model to fruits_360_weights.hdf5\n",
      "Epoch 3/30\n",
      " - 491s - loss: 0.1581 - accuracy: 0.9554 - val_loss: 0.3822 - val_accuracy: 0.9348\n",
      "\n",
      "Epoch 00003: val_loss improved from 0.50606 to 0.38215, saving model to fruits_360_weights.hdf5\n",
      "Epoch 4/30\n",
      " - 492s - loss: 0.1149 - accuracy: 0.9684 - val_loss: 0.2448 - val_accuracy: 0.9533\n",
      "\n",
      "Epoch 00004: val_loss improved from 0.38215 to 0.24485, saving model to fruits_360_weights.hdf5\n",
      "Epoch 5/30\n",
      " - 496s - loss: 0.0885 - accuracy: 0.9768 - val_loss: 0.2196 - val_accuracy: 0.9504\n",
      "\n",
      "Epoch 00005: val_loss improved from 0.24485 to 0.21964, saving model to fruits_360_weights.hdf5\n",
      "Epoch 6/30\n",
      " - 491s - loss: 0.0736 - accuracy: 0.9804 - val_loss: 0.1602 - val_accuracy: 0.9689\n",
      "\n",
      "Epoch 00006: val_loss improved from 0.21964 to 0.16022, saving model to fruits_360_weights.hdf5\n",
      "Epoch 7/30\n",
      " - 492s - loss: 0.0668 - accuracy: 0.9834 - val_loss: 0.1463 - val_accuracy: 0.9738\n",
      "\n",
      "Epoch 00007: val_loss improved from 0.16022 to 0.14631, saving model to fruits_360_weights.hdf5\n",
      "Epoch 8/30\n",
      " - 488s - loss: 0.0634 - accuracy: 0.9850 - val_loss: 0.2065 - val_accuracy: 0.9689\n",
      "\n",
      "Epoch 00008: val_loss did not improve from 0.14631\n",
      "Epoch 9/30\n",
      " - 490s - loss: 0.0566 - accuracy: 0.9869 - val_loss: 0.2437 - val_accuracy: 0.9636\n",
      "\n",
      "Epoch 00009: val_loss did not improve from 0.14631\n",
      "Epoch 10/30\n",
      " - 488s - loss: 0.0527 - accuracy: 0.9880 - val_loss: 0.2242 - val_accuracy: 0.9652\n",
      "\n",
      "Epoch 00010: val_loss did not improve from 0.14631\n",
      "Epoch 11/30\n",
      " - 492s - loss: 0.0503 - accuracy: 0.9894 - val_loss: 0.3278 - val_accuracy: 0.9522\n",
      "\n",
      "Epoch 00011: val_loss did not improve from 0.14631\n",
      "Epoch 12/30\n",
      " - 492s - loss: 0.0502 - accuracy: 0.9892 - val_loss: 0.5635 - val_accuracy: 0.9405\n",
      "\n",
      "Epoch 00012: val_loss did not improve from 0.14631\n",
      "Epoch 13/30\n",
      " - 494s - loss: 0.0439 - accuracy: 0.9906 - val_loss: 0.1488 - val_accuracy: 0.9749\n",
      "\n",
      "Epoch 00013: val_loss did not improve from 0.14631\n",
      "Epoch 14/30\n",
      " - 500s - loss: 0.0459 - accuracy: 0.9908 - val_loss: 0.4333 - val_accuracy: 0.9581\n",
      "\n",
      "Epoch 00014: val_loss did not improve from 0.14631\n",
      "Epoch 15/30\n",
      " - 520s - loss: 0.0458 - accuracy: 0.9910 - val_loss: 0.1759 - val_accuracy: 0.9762\n",
      "\n",
      "Epoch 00015: val_loss did not improve from 0.14631\n",
      "Epoch 16/30\n",
      " - 503s - loss: 0.0424 - accuracy: 0.9920 - val_loss: 0.3309 - val_accuracy: 0.9535\n",
      "\n",
      "Epoch 00016: val_loss did not improve from 0.14631\n",
      "Epoch 17/30\n",
      " - 511s - loss: 0.0411 - accuracy: 0.9921 - val_loss: 0.1832 - val_accuracy: 0.9758\n",
      "\n",
      "Epoch 00017: val_loss did not improve from 0.14631\n",
      "Epoch 18/30\n",
      " - 514s - loss: 0.0401 - accuracy: 0.9925 - val_loss: 0.1405 - val_accuracy: 0.9828\n",
      "\n",
      "Epoch 00018: val_loss improved from 0.14631 to 0.14049, saving model to fruits_360_weights.hdf5\n",
      "Epoch 19/30\n",
      " - 509s - loss: 0.0357 - accuracy: 0.9930 - val_loss: 0.1802 - val_accuracy: 0.9784\n",
      "\n",
      "Epoch 00019: val_loss did not improve from 0.14049\n",
      "Epoch 20/30\n",
      " - 509s - loss: 0.0392 - accuracy: 0.9929 - val_loss: 0.3703 - val_accuracy: 0.9650\n",
      "\n",
      "Epoch 00020: val_loss did not improve from 0.14049\n",
      "Epoch 21/30\n",
      " - 509s - loss: 0.0347 - accuracy: 0.9936 - val_loss: 0.2743 - val_accuracy: 0.9744\n",
      "\n",
      "Epoch 00021: val_loss did not improve from 0.14049\n",
      "Epoch 22/30\n",
      " - 503s - loss: 0.0406 - accuracy: 0.9933 - val_loss: 0.2322 - val_accuracy: 0.9766\n",
      "\n",
      "Epoch 00022: val_loss did not improve from 0.14049\n",
      "Epoch 23/30\n",
      " - 505s - loss: 0.0377 - accuracy: 0.9934 - val_loss: 0.2936 - val_accuracy: 0.9769\n",
      "\n",
      "Epoch 00023: val_loss did not improve from 0.14049\n",
      "Epoch 24/30\n",
      " - 505s - loss: 0.0313 - accuracy: 0.9948 - val_loss: 0.1927 - val_accuracy: 0.9775\n",
      "\n",
      "Epoch 00024: val_loss did not improve from 0.14049\n",
      "Epoch 25/30\n",
      " - 504s - loss: 0.0354 - accuracy: 0.9941 - val_loss: 0.2245 - val_accuracy: 0.9738\n",
      "\n",
      "Epoch 00025: val_loss did not improve from 0.14049\n",
      "Epoch 26/30\n",
      " - 508s - loss: 0.0308 - accuracy: 0.9949 - val_loss: 0.1621 - val_accuracy: 0.9817\n",
      "\n",
      "Epoch 00026: val_loss did not improve from 0.14049\n",
      "Epoch 27/30\n",
      " - 504s - loss: 0.0338 - accuracy: 0.9943 - val_loss: 0.2164 - val_accuracy: 0.9835\n",
      "\n",
      "Epoch 00027: val_loss did not improve from 0.14049\n",
      "Epoch 28/30\n",
      " - 504s - loss: 0.0302 - accuracy: 0.9952 - val_loss: 0.3772 - val_accuracy: 0.9581\n",
      "\n",
      "Epoch 00028: val_loss did not improve from 0.14049\n",
      "Epoch 29/30\n",
      " - 700s - loss: 0.0307 - accuracy: 0.9943 - val_loss: 0.2013 - val_accuracy: 0.9837\n",
      "\n",
      "Epoch 00029: val_loss did not improve from 0.14049\n",
      "Epoch 30/30\n",
      " - 956s - loss: 0.0349 - accuracy: 0.9950 - val_loss: 0.1512 - val_accuracy: 0.9844\n",
      "\n",
      "Epoch 00030: val_loss did not improve from 0.14049\n"
     ]
    }
   ],
   "source": [
    "\n",
    "\n",
    "learned_weights = ModelCheckpoint(filepath = 'fruits_360_weights.hdf5', verbose = 1, save_best_only = True)\n",
    "\n",
    "history = model.fit(x_train,y_train,\n",
    "        batch_size = 32,\n",
    "        epochs=30,\n",
    "        validation_data=(x_valid, y_valid),\n",
    "        callbacks = [learned_weights],\n",
    "        verbose=2, shuffle=True)"
   ]
  },
  {
   "cell_type": "code",
   "execution_count": 51,
   "metadata": {},
   "outputs": [],
   "source": [
    "model.load_weights('fruits_360_weights.hdf5')"
   ]
  },
  {
   "cell_type": "code",
   "execution_count": 52,
   "metadata": {},
   "outputs": [],
   "source": [
    "accuracy = model.evaluate(x_test, y_test, verbose=0)"
   ]
  },
  {
   "cell_type": "code",
   "execution_count": 53,
   "metadata": {},
   "outputs": [
    {
     "name": "stdout",
     "output_type": "stream",
     "text": [
      "[0.16175491615858167, 0.9817630648612976]\n"
     ]
    }
   ],
   "source": [
    "print(accuracy)"
   ]
  },
  {
   "cell_type": "code",
   "execution_count": null,
   "metadata": {},
   "outputs": [],
   "source": []
  },
  {
   "cell_type": "code",
   "execution_count": null,
   "metadata": {},
   "outputs": [],
   "source": []
  },
  {
   "cell_type": "code",
   "execution_count": null,
   "metadata": {},
   "outputs": [],
   "source": []
  }
 ],
 "metadata": {
  "kernelspec": {
   "display_name": "Python 3",
   "language": "python",
   "name": "python3"
  },
  "language_info": {
   "codemirror_mode": {
    "name": "ipython",
    "version": 3
   },
   "file_extension": ".py",
   "mimetype": "text/x-python",
   "name": "python",
   "nbconvert_exporter": "python",
   "pygments_lexer": "ipython3",
   "version": "3.7.4"
  }
 },
 "nbformat": 4,
 "nbformat_minor": 2
}
